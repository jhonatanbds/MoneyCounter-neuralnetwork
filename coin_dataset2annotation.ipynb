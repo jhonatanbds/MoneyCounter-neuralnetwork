{
 "cells": [
  {
   "cell_type": "code",
   "execution_count": 27,
   "metadata": {},
   "outputs": [],
   "source": [
    "import pandas as pd\n",
    "import json\n",
    "import cv2\n",
    "import os\n",
    "import sys"
   ]
  },
  {
   "cell_type": "code",
   "execution_count": 8,
   "metadata": {},
   "outputs": [],
   "source": [
    "coins_df = pd.read_csv('data/export-2019-06-02T22_25_07.306Z.csv')\n",
    "coins_df = coins_df[['External ID', 'Label']]\n",
    "\n",
    "all_data = []\n",
    "for l in range(len(coins_df.Label)):\n",
    "    if (coins_df.Label[l] == 'Skip'):\n",
    "        continue\n",
    "    j = json.loads(coins_df.Label[l])\n",
    "    row = []\n",
    "    for k in j.keys():\n",
    "        for gt in j[k]:\n",
    "            geo = gt['geometry']\n",
    "            row = [coins_df['External ID'][l], geo[0]['x'], geo[2]['x'], geo[0]['y'], geo[2]['y'], k]\n",
    "            all_data.append(row)"
   ]
  },
  {
   "cell_type": "code",
   "execution_count": 20,
   "metadata": {},
   "outputs": [
    {
     "data": {
      "text/plain": [
       "1716"
      ]
     },
     "execution_count": 20,
     "metadata": {},
     "output_type": "execute_result"
    }
   ],
   "source": [
    "import random\n",
    "\n",
    "train_df = pd.DataFrame(columns=['FileName','XMin','XMax','YMin','YMax','ClassName'])\n",
    "test_df = pd.DataFrame(columns=['FileName','XMin','XMax','YMin','YMax','ClassName'])\n",
    "\n",
    "for i in range(random.randint(1,10)):\n",
    "    random.shuffle(all_data)\n",
    "\n",
    "for d in range(len(all_data)):\n",
    "    if d/len(all_data) < 0.8:\n",
    "        train_df.loc[len(train_df)] = all_data[d]\n",
    "    else:\n",
    "        test_df.loc[len(test_df)] = all_data[d]\n",
    "\n",
    "len(train_df)"
   ]
  },
  {
   "cell_type": "code",
   "execution_count": 21,
   "metadata": {},
   "outputs": [
    {
     "data": {
      "text/html": [
       "<div>\n",
       "<style scoped>\n",
       "    .dataframe tbody tr th:only-of-type {\n",
       "        vertical-align: middle;\n",
       "    }\n",
       "\n",
       "    .dataframe tbody tr th {\n",
       "        vertical-align: top;\n",
       "    }\n",
       "\n",
       "    .dataframe thead th {\n",
       "        text-align: right;\n",
       "    }\n",
       "</style>\n",
       "<table border=\"1\" class=\"dataframe\">\n",
       "  <thead>\n",
       "    <tr style=\"text-align: right;\">\n",
       "      <th></th>\n",
       "      <th>FileName</th>\n",
       "      <th>XMin</th>\n",
       "      <th>XMax</th>\n",
       "      <th>YMin</th>\n",
       "      <th>YMax</th>\n",
       "      <th>ClassName</th>\n",
       "    </tr>\n",
       "  </thead>\n",
       "  <tbody>\n",
       "    <tr>\n",
       "      <th>0</th>\n",
       "      <td>145_1479427572.jpg</td>\n",
       "      <td>268</td>\n",
       "      <td>333</td>\n",
       "      <td>326</td>\n",
       "      <td>389</td>\n",
       "      <td>10</td>\n",
       "    </tr>\n",
       "    <tr>\n",
       "      <th>1</th>\n",
       "      <td>150_1479429624.jpg</td>\n",
       "      <td>321</td>\n",
       "      <td>387</td>\n",
       "      <td>130</td>\n",
       "      <td>197</td>\n",
       "      <td>5</td>\n",
       "    </tr>\n",
       "    <tr>\n",
       "      <th>2</th>\n",
       "      <td>150_1479429990.jpg</td>\n",
       "      <td>404</td>\n",
       "      <td>478</td>\n",
       "      <td>293</td>\n",
       "      <td>365</td>\n",
       "      <td>10</td>\n",
       "    </tr>\n",
       "    <tr>\n",
       "      <th>3</th>\n",
       "      <td>140_1479427464.jpg</td>\n",
       "      <td>273</td>\n",
       "      <td>348</td>\n",
       "      <td>96</td>\n",
       "      <td>172</td>\n",
       "      <td>50</td>\n",
       "    </tr>\n",
       "    <tr>\n",
       "      <th>4</th>\n",
       "      <td>150_1479429588.jpg</td>\n",
       "      <td>528</td>\n",
       "      <td>597</td>\n",
       "      <td>155</td>\n",
       "      <td>231</td>\n",
       "      <td>5</td>\n",
       "    </tr>\n",
       "  </tbody>\n",
       "</table>\n",
       "</div>"
      ],
      "text/plain": [
       "             FileName XMin XMax YMin YMax ClassName\n",
       "0  145_1479427572.jpg  268  333  326  389        10\n",
       "1  150_1479429624.jpg  321  387  130  197         5\n",
       "2  150_1479429990.jpg  404  478  293  365        10\n",
       "3  140_1479427464.jpg  273  348   96  172        50\n",
       "4  150_1479429588.jpg  528  597  155  231         5"
      ]
     },
     "execution_count": 21,
     "metadata": {},
     "output_type": "execute_result"
    }
   ],
   "source": [
    "test_df.head()"
   ]
  },
  {
   "cell_type": "code",
   "execution_count": 31,
   "metadata": {},
   "outputs": [
    {
     "name": "stdout",
     "output_type": "stream",
     "text": [
      "1715\r"
     ]
    }
   ],
   "source": [
    "# For training\n",
    "f= open(\"data/annotation.txt\",\"w+\")\n",
    "for idx, row in train_df.iterrows():\n",
    "    sys.stdout.write(str(idx) + '\\r')\n",
    "    sys.stdout.flush()\n",
    "    img = cv2.imread(('data/all/' + row['FileName']))\n",
    "    height, width = img.shape[:2]\n",
    "    x1 = int(row['XMin'])\n",
    "    x2 = int(row['XMax'])\n",
    "    y1 = int(row['YMin'])\n",
    "    y2 = int(row['YMax'])\n",
    "    \n",
    "    fileName = os.path.join('data/all', row['FileName'])\n",
    "    className = row['ClassName']\n",
    "    f.write(fileName + ',' + str(x1) + ',' + str(y1) + ',' + str(x2) + ',' + str(y2) + ',' + className + '\\n')\n",
    "f.close()"
   ]
  },
  {
   "cell_type": "code",
   "execution_count": 32,
   "metadata": {},
   "outputs": [
    {
     "name": "stdout",
     "output_type": "stream",
     "text": [
      "428\r"
     ]
    }
   ],
   "source": [
    "# For test\n",
    "f= open(\"data/test_annotation.txt\",\"w+\")\n",
    "for idx, row in test_df.iterrows():\n",
    "    sys.stdout.write(str(idx) + '\\r')\n",
    "    sys.stdout.flush()\n",
    "    img = cv2.imread(('data/all/' + row['FileName']))\n",
    "    height, width = img.shape[:2]\n",
    "    x1 = int(row['XMin'])\n",
    "    x2 = int(row['XMax'])\n",
    "    y1 = int(row['YMin'])\n",
    "    y2 = int(row['YMax'])\n",
    "    \n",
    "    fileName = os.path.join('data/all', row['FileName'])\n",
    "    className = row['ClassName']\n",
    "    f.write(fileName + ',' + str(x1) + ',' + str(y1) + ',' + str(x2) + ',' + str(y2) + ',' + className + '\\n')\n",
    "f.close()"
   ]
  }
 ],
 "metadata": {
  "kernelspec": {
   "display_name": "Python 3",
   "language": "python",
   "name": "python3"
  },
  "language_info": {
   "codemirror_mode": {
    "name": "ipython",
    "version": 3
   },
   "file_extension": ".py",
   "mimetype": "text/x-python",
   "name": "python",
   "nbconvert_exporter": "python",
   "pygments_lexer": "ipython3",
   "version": "3.7.3"
  }
 },
 "nbformat": 4,
 "nbformat_minor": 2
}
